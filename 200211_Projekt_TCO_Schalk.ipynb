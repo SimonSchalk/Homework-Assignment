{
 "cells": [
  {
   "cell_type": "markdown",
   "metadata": {},
   "source": [
    "# Projektarbeit - EMO1LU\n",
    "\n",
    "## Total cost of ownership (TCO) - Total cost of ownership (TCO)\n",
    "\n",
    "\n",
    "\n",
    "Simon Schalk\n",
    "S1910632012\n",
    "\n",
    "\n",
    "Datum: 11.02.2020\n"
   ]
  },
  {
   "cell_type": "markdown",
   "metadata": {},
   "source": [
    "## Introduction/Einführung"
   ]
  },
  {
   "cell_type": "markdown",
   "metadata": {},
   "source": [
    "In dieser Projektarbeit sollen die in der Lehrveranstaltung gelernten Methoden und Tools in *Jupyter* an einem eigenen, sinnvollen Projekt angewendet werden. Es geht vor allem darum, in *Jupyter* mit **Python** mit vorhandenen Daten zu arbeiten, diese aufzubereiten und mathematische Berechnungen anzustellen. Weiters sollen grafische Visualisierungen der Ergebnisse und interaktive Widgets verwendet werden.  "
   ]
  },
  {
   "cell_type": "markdown",
   "metadata": {},
   "source": [
    "## Problembeschreibung "
   ]
  },
  {
   "cell_type": "markdown",
   "metadata": {},
   "source": [
    "Immer wenn es darum geht, über die Sinnhaftigkeit und die Vorteile der Elektromobilität im Individualverkehr zu diskutieren, werde ich mit den klassischen Gegenargumenten wie, zu wenig Reichweite, im Winter keine Performance, zu lange Ladezeiten etc. konfrontiert. Der mit Abstand wichtigste Punkt für die Menschen ist aber immer noch der Preis. Viele Menschen können sich nicht vorstellen, dass ein E-Auto, welches in der Anschaffung etwa 10.000 EURO teurer ist als ein vergleichbarer Verbrenner, im lauf eines Autolebens viel günstiger kommt.\n",
    "\n",
    "Aus diesem Grund sollen in dieser Projektarbeit die betrieblichen Gesamtkosten von Elektro-Fahrzeugen und konventionellen Pkws verglichen werden. Es wird ein Betrachtungszeitraum von 10 Jahren angenommen. \n"
   ]
  },
  {
   "cell_type": "markdown",
   "metadata": {},
   "source": [
    "<img src=\"elektroauto-vs-benziner-im-vergleich.jpg\" width=400 />"
   ]
  },
  {
   "cell_type": "markdown",
   "metadata": {},
   "source": [
    "Verglichen werden dabei die ab Februar 2020 erhältlichen Kleinwagen Peugeot 208 in  Benziner- und Elektro-Variante."
   ]
  },
  {
   "cell_type": "markdown",
   "metadata": {},
   "source": [
    "## Methode "
   ]
  },
  {
   "cell_type": "markdown",
   "metadata": {},
   "source": [
    "### Allgemeine Fromel:\n",
    "\n",
    "Wie in folgender Formel ersichtlich, berechnen sich die TCO aus der Summe der einmaligen Fixkosten und den jährlichen variablen Kosten für einen gewissen Zeitraum. \n",
    "\n",
    "$ TCO = c_f + \\sum_{i=0}^{10} (c_F + c_M + c_I) $"
   ]
  },
  {
   "cell_type": "markdown",
   "metadata": {},
   "source": [
    "- $c_f$........Fixcosts (einmalige Anschaffungskosten abzüglich Investitionsförderungen)\n",
    "\n",
    "- $TCO$...Total Cost of Ownership (betriebliche Gesamtkosten) über bestimmten Zeitraum\n",
    "\n",
    "- $c_F$........Costs of **F**uel (Treibstoffkosten)\n",
    "\n",
    "- $c_M$.......Costs of **M**aintainance (Instandhaltungskosten)\n",
    "\n",
    "- $c_I$.........Costs of Insurance (Versicherung, Steuern, Abgaben)\n",
    "\n",
    "**Definition des Berechnungszeitraums in Jahren:**"
   ]
  },
  {
   "cell_type": "code",
   "execution_count": 118,
   "metadata": {},
   "outputs": [],
   "source": [
    "jahre = 10"
   ]
  },
  {
   "cell_type": "markdown",
   "metadata": {},
   "source": [
    "### Anschaffungskosten und Förderung (Fixkosten):\n"
   ]
  },
  {
   "cell_type": "markdown",
   "metadata": {},
   "source": [
    "Der Peugeot 208-e GT (Elektro) kostet in der Topversion, ohne Zusatzpakete, 37.300€. \n",
    "Der Peugeot 208 GT PureTEch 130EAT8 (Benzin) kostet mit der gleichen Leistung und Topversion, ebenfalls ohne Zusatzpakete, 26.500€. \n",
    "\n",
    "Für den Kauf von Elektroautos gibt es aktuell bis zu 3.300 € Förderung von der Öffentlichen Hand. Diese können von den Anschaffungskosten des 208-e abgezogen werden.  "
   ]
  },
  {
   "cell_type": "code",
   "execution_count": 2,
   "metadata": {},
   "outputs": [
    {
     "name": "stdout",
     "output_type": "stream",
     "text": [
      "Förderung:                           3300 €\n",
      "Anschaffungskosten 208-e (Elektro):  37300 €\n",
      "Anschaffungskosten 208 (Benziner):   26500 €\n",
      "\n",
      "einmalige Fixkosten 208-e (Elektro): 34000 €\n",
      "einmalige Fixkosten 208 (Benziner) : 26500 €\n"
     ]
    }
   ],
   "source": [
    "c0_e = 37300\n",
    "cfoerder_e = 3300\n",
    "\n",
    "c0_ver = 26500\n",
    "cfoerder_ver = 0\n",
    "\n",
    "print('Förderung:                          ', cfoerder_e, '€')\n",
    "print('Anschaffungskosten 208-e (Elektro): ', c0_e, '€')\n",
    "print('Anschaffungskosten 208 (Benziner):  ', c0_ver, '€')\n",
    "print('')\n",
    "\n",
    "\n",
    "\n",
    "cf_e = c0_e - cfoerder_e\n",
    "cf_ver = c0_ver - cfoerder_ver\n",
    "\n",
    "print('einmalige Fixkosten 208-e (Elektro):', cf_e, '€')\n",
    "print('einmalige Fixkosten 208 (Benziner) :', cf_ver, '€')"
   ]
  },
  {
   "cell_type": "markdown",
   "metadata": {},
   "source": [
    "### Verbrauchsdaten (WLTP) laut Hersteller: \n"
   ]
  },
  {
   "cell_type": "code",
   "execution_count": 3,
   "metadata": {},
   "outputs": [
    {
     "name": "stdout",
     "output_type": "stream",
     "text": [
      "Verbrauch 208-e: 14.7 kWh/100km\n",
      "Verbrauch 208:   5.7 Liter/100km\n"
     ]
    }
   ],
   "source": [
    "WLTP_e = 14.7\n",
    "WLTP_ver = 5.7\n",
    "\n",
    "print('Verbrauch 208-e:', WLTP_e, 'kWh/100km')\n",
    "print('Verbrauch 208:  ' , WLTP_ver, 'Liter/100km')"
   ]
  },
  {
   "cell_type": "markdown",
   "metadata": {},
   "source": [
    "### Ermittlung der durchschnittlichen Benzinkosten:\n",
    "\n",
    "Für die Bestimmung der durchschnittlichen Benzinkosten werden Daten der Jahre 2004 bis 2019 gemittelt und für die weiter Berechnung herangezogen. Diese Daten werden aus einer Excel-Datei importiert. \n",
    "\n",
    "Die importierten Daten sollen dann so aufbereitet werden, dass nur die Österreichischen Werte verwendet werden und daraus der Mittelwert gebildet wird. "
   ]
  },
  {
   "cell_type": "code",
   "execution_count": 4,
   "metadata": {},
   "outputs": [
    {
     "data": {
      "text/html": [
       "<div>\n",
       "<style scoped>\n",
       "    .dataframe tbody tr th:only-of-type {\n",
       "        vertical-align: middle;\n",
       "    }\n",
       "\n",
       "    .dataframe tbody tr th {\n",
       "        vertical-align: top;\n",
       "    }\n",
       "\n",
       "    .dataframe thead th {\n",
       "        text-align: right;\n",
       "    }\n",
       "</style>\n",
       "<table border=\"1\" class=\"dataframe\">\n",
       "  <thead>\n",
       "    <tr style=\"text-align: right;\">\n",
       "      <th></th>\n",
       "      <th>0</th>\n",
       "      <th>1</th>\n",
       "      <th>2</th>\n",
       "      <th>3</th>\n",
       "      <th>4</th>\n",
       "      <th>5</th>\n",
       "      <th>6</th>\n",
       "      <th>7</th>\n",
       "      <th>8</th>\n",
       "      <th>9</th>\n",
       "      <th>10</th>\n",
       "      <th>11</th>\n",
       "      <th>12</th>\n",
       "      <th>13</th>\n",
       "      <th>14</th>\n",
       "      <th>15</th>\n",
       "    </tr>\n",
       "  </thead>\n",
       "  <tbody>\n",
       "    <tr>\n",
       "      <td>0</td>\n",
       "      <td>Preisvergleich einiger EU-Länder 2004 bis 2019...</td>\n",
       "      <td>NaN</td>\n",
       "      <td>NaN</td>\n",
       "      <td>NaN</td>\n",
       "      <td>NaN</td>\n",
       "      <td>NaN</td>\n",
       "      <td>NaN</td>\n",
       "      <td>NaN</td>\n",
       "      <td>NaN</td>\n",
       "      <td>NaN</td>\n",
       "      <td>NaN</td>\n",
       "      <td>NaN</td>\n",
       "      <td>NaN</td>\n",
       "      <td>NaN</td>\n",
       "      <td>NaN</td>\n",
       "      <td>NaN</td>\n",
       "    </tr>\n",
       "    <tr>\n",
       "      <td>1</td>\n",
       "      <td>Land</td>\n",
       "      <td>2004.00</td>\n",
       "      <td>2005.00</td>\n",
       "      <td>2007.00</td>\n",
       "      <td>2008.00</td>\n",
       "      <td>2009.00</td>\n",
       "      <td>2010.00</td>\n",
       "      <td>2011.00</td>\n",
       "      <td>2012.00</td>\n",
       "      <td>2013.00</td>\n",
       "      <td>2014.000</td>\n",
       "      <td>2015.00</td>\n",
       "      <td>2016.00</td>\n",
       "      <td>2017.00</td>\n",
       "      <td>2018.00</td>\n",
       "      <td>2019.00</td>\n",
       "    </tr>\n",
       "    <tr>\n",
       "      <td>2</td>\n",
       "      <td>Belgien</td>\n",
       "      <td>1.10</td>\n",
       "      <td>1.24</td>\n",
       "      <td>1.41</td>\n",
       "      <td>1.50</td>\n",
       "      <td>1.11</td>\n",
       "      <td>1.35</td>\n",
       "      <td>1.56</td>\n",
       "      <td>1.74</td>\n",
       "      <td>1.67</td>\n",
       "      <td>1.600</td>\n",
       "      <td>1.42</td>\n",
       "      <td>1.24</td>\n",
       "      <td>1.38</td>\n",
       "      <td>1.46</td>\n",
       "      <td>1.43</td>\n",
       "    </tr>\n",
       "    <tr>\n",
       "      <td>3</td>\n",
       "      <td>Dänemark</td>\n",
       "      <td>1.26</td>\n",
       "      <td>1.23</td>\n",
       "      <td>1.38</td>\n",
       "      <td>1.40</td>\n",
       "      <td>1.00</td>\n",
       "      <td>1.45</td>\n",
       "      <td>1.60</td>\n",
       "      <td>1.80</td>\n",
       "      <td>1.66</td>\n",
       "      <td>1.580</td>\n",
       "      <td>1.43</td>\n",
       "      <td>1.38</td>\n",
       "      <td>1.55</td>\n",
       "      <td>1.61</td>\n",
       "      <td>1.63</td>\n",
       "    </tr>\n",
       "    <tr>\n",
       "      <td>4</td>\n",
       "      <td>Deutschland</td>\n",
       "      <td>1.19</td>\n",
       "      <td>1.18</td>\n",
       "      <td>1.37</td>\n",
       "      <td>1.43</td>\n",
       "      <td>1.09</td>\n",
       "      <td>1.35</td>\n",
       "      <td>1.50</td>\n",
       "      <td>1.73</td>\n",
       "      <td>1.65</td>\n",
       "      <td>1.521</td>\n",
       "      <td>1.28</td>\n",
       "      <td>1.21</td>\n",
       "      <td>1.36</td>\n",
       "      <td>1.47</td>\n",
       "      <td>1.40</td>\n",
       "    </tr>\n",
       "    <tr>\n",
       "      <td>5</td>\n",
       "      <td>Frankreich</td>\n",
       "      <td>1.05</td>\n",
       "      <td>1.15</td>\n",
       "      <td>1.31</td>\n",
       "      <td>1.38</td>\n",
       "      <td>1.07</td>\n",
       "      <td>1.35</td>\n",
       "      <td>1.53</td>\n",
       "      <td>1.63</td>\n",
       "      <td>1.60</td>\n",
       "      <td>1.510</td>\n",
       "      <td>1.37</td>\n",
       "      <td>1.24</td>\n",
       "      <td>1.39</td>\n",
       "      <td>1.49</td>\n",
       "      <td>1.49</td>\n",
       "    </tr>\n",
       "    <tr>\n",
       "      <td>6</td>\n",
       "      <td>Italien</td>\n",
       "      <td>1.10</td>\n",
       "      <td>1.23</td>\n",
       "      <td>1.35</td>\n",
       "      <td>1.39</td>\n",
       "      <td>1.10</td>\n",
       "      <td>1.34</td>\n",
       "      <td>1.46</td>\n",
       "      <td>1.81</td>\n",
       "      <td>1.77</td>\n",
       "      <td>1.760</td>\n",
       "      <td>1.53</td>\n",
       "      <td>1.45</td>\n",
       "      <td>1.55</td>\n",
       "      <td>1.57</td>\n",
       "      <td>1.55</td>\n",
       "    </tr>\n",
       "    <tr>\n",
       "      <td>7</td>\n",
       "      <td>Luxemburg</td>\n",
       "      <td>0.92</td>\n",
       "      <td>0.99</td>\n",
       "      <td>1.18</td>\n",
       "      <td>1.19</td>\n",
       "      <td>0.91</td>\n",
       "      <td>1.13</td>\n",
       "      <td>1.25</td>\n",
       "      <td>1.42</td>\n",
       "      <td>1.37</td>\n",
       "      <td>1.290</td>\n",
       "      <td>1.16</td>\n",
       "      <td>1.01</td>\n",
       "      <td>1.14</td>\n",
       "      <td>1.19</td>\n",
       "      <td>1.18</td>\n",
       "    </tr>\n",
       "    <tr>\n",
       "      <td>8</td>\n",
       "      <td>Niederlande</td>\n",
       "      <td>1.26</td>\n",
       "      <td>1.33</td>\n",
       "      <td>1.51</td>\n",
       "      <td>1.56</td>\n",
       "      <td>1.25</td>\n",
       "      <td>1.54</td>\n",
       "      <td>1.66</td>\n",
       "      <td>1.83</td>\n",
       "      <td>1.83</td>\n",
       "      <td>1.770</td>\n",
       "      <td>1.65</td>\n",
       "      <td>1.46</td>\n",
       "      <td>1.65</td>\n",
       "      <td>1.72</td>\n",
       "      <td>1.72</td>\n",
       "    </tr>\n",
       "    <tr>\n",
       "      <td>9</td>\n",
       "      <td>Österreich</td>\n",
       "      <td>0.94</td>\n",
       "      <td>1.00</td>\n",
       "      <td>1.13</td>\n",
       "      <td>1.22</td>\n",
       "      <td>0.91</td>\n",
       "      <td>1.11</td>\n",
       "      <td>1.29</td>\n",
       "      <td>1.45</td>\n",
       "      <td>1.41</td>\n",
       "      <td>1.340</td>\n",
       "      <td>1.18</td>\n",
       "      <td>1.04</td>\n",
       "      <td>1.18</td>\n",
       "      <td>1.21</td>\n",
       "      <td>1.19</td>\n",
       "    </tr>\n",
       "    <tr>\n",
       "      <td>10</td>\n",
       "      <td>Polen</td>\n",
       "      <td>0.80</td>\n",
       "      <td>0.92</td>\n",
       "      <td>1.15</td>\n",
       "      <td>1.23</td>\n",
       "      <td>0.82</td>\n",
       "      <td>1.12</td>\n",
       "      <td>1.26</td>\n",
       "      <td>1.38</td>\n",
       "      <td>1.29</td>\n",
       "      <td>1.260</td>\n",
       "      <td>1.08</td>\n",
       "      <td>0.91</td>\n",
       "      <td>1.10</td>\n",
       "      <td>1.10</td>\n",
       "      <td>1.10</td>\n",
       "    </tr>\n",
       "    <tr>\n",
       "      <td>11</td>\n",
       "      <td>Schweiz</td>\n",
       "      <td>0.92</td>\n",
       "      <td>0.98</td>\n",
       "      <td>1.06</td>\n",
       "      <td>1.14</td>\n",
       "      <td>0.88</td>\n",
       "      <td>1.12</td>\n",
       "      <td>1.29</td>\n",
       "      <td>1.51</td>\n",
       "      <td>1.47</td>\n",
       "      <td>1.390</td>\n",
       "      <td>1.38</td>\n",
       "      <td>1.21</td>\n",
       "      <td>1.41</td>\n",
       "      <td>1.36</td>\n",
       "      <td>1.36</td>\n",
       "    </tr>\n",
       "    <tr>\n",
       "      <td>12</td>\n",
       "      <td>Slowakei</td>\n",
       "      <td>NaN</td>\n",
       "      <td>0.90</td>\n",
       "      <td>1.11</td>\n",
       "      <td>1.21</td>\n",
       "      <td>1.05</td>\n",
       "      <td>1.18</td>\n",
       "      <td>1.38</td>\n",
       "      <td>1.54</td>\n",
       "      <td>1.50</td>\n",
       "      <td>1.440</td>\n",
       "      <td>1.22</td>\n",
       "      <td>1.12</td>\n",
       "      <td>1.31</td>\n",
       "      <td>1.31</td>\n",
       "      <td>1.30</td>\n",
       "    </tr>\n",
       "    <tr>\n",
       "      <td>13</td>\n",
       "      <td>Slowenien</td>\n",
       "      <td>NaN</td>\n",
       "      <td>0.90</td>\n",
       "      <td>1.11</td>\n",
       "      <td>1.07</td>\n",
       "      <td>0.83</td>\n",
       "      <td>1.15</td>\n",
       "      <td>1.28</td>\n",
       "      <td>1.46</td>\n",
       "      <td>1.52</td>\n",
       "      <td>1.440</td>\n",
       "      <td>1.31</td>\n",
       "      <td>1.12</td>\n",
       "      <td>1.28</td>\n",
       "      <td>1.31</td>\n",
       "      <td>1.27</td>\n",
       "    </tr>\n",
       "    <tr>\n",
       "      <td>14</td>\n",
       "      <td>Tschechien</td>\n",
       "      <td>0.87</td>\n",
       "      <td>0.92</td>\n",
       "      <td>1.03</td>\n",
       "      <td>1.21</td>\n",
       "      <td>0.92</td>\n",
       "      <td>1.19</td>\n",
       "      <td>1.38</td>\n",
       "      <td>1.49</td>\n",
       "      <td>1.43</td>\n",
       "      <td>1.310</td>\n",
       "      <td>1.11</td>\n",
       "      <td>1.00</td>\n",
       "      <td>1.15</td>\n",
       "      <td>1.19</td>\n",
       "      <td>1.16</td>\n",
       "    </tr>\n",
       "    <tr>\n",
       "      <td>15</td>\n",
       "      <td>Ungarn</td>\n",
       "      <td>1.00</td>\n",
       "      <td>1.01</td>\n",
       "      <td>1.13</td>\n",
       "      <td>1.13</td>\n",
       "      <td>0.86</td>\n",
       "      <td>1.22</td>\n",
       "      <td>1.32</td>\n",
       "      <td>1.49</td>\n",
       "      <td>1.46</td>\n",
       "      <td>1.300</td>\n",
       "      <td>1.15</td>\n",
       "      <td>0.96</td>\n",
       "      <td>1.16</td>\n",
       "      <td>1.18</td>\n",
       "      <td>1.15</td>\n",
       "    </tr>\n",
       "  </tbody>\n",
       "</table>\n",
       "</div>"
      ],
      "text/plain": [
       "                                                   0        1        2   \\\n",
       "0   Preisvergleich einiger EU-Länder 2004 bis 2019...      NaN      NaN   \n",
       "1                                                Land  2004.00  2005.00   \n",
       "2                                             Belgien     1.10     1.24   \n",
       "3                                            Dänemark     1.26     1.23   \n",
       "4                                         Deutschland     1.19     1.18   \n",
       "5                                          Frankreich     1.05     1.15   \n",
       "6                                             Italien     1.10     1.23   \n",
       "7                                           Luxemburg     0.92     0.99   \n",
       "8                                         Niederlande     1.26     1.33   \n",
       "9                                          Österreich     0.94     1.00   \n",
       "10                                              Polen     0.80     0.92   \n",
       "11                                            Schweiz     0.92     0.98   \n",
       "12                                           Slowakei      NaN     0.90   \n",
       "13                                          Slowenien      NaN     0.90   \n",
       "14                                         Tschechien     0.87     0.92   \n",
       "15                                             Ungarn     1.00     1.01   \n",
       "\n",
       "         3        4        5        6        7        8        9         10  \\\n",
       "0       NaN      NaN      NaN      NaN      NaN      NaN      NaN       NaN   \n",
       "1   2007.00  2008.00  2009.00  2010.00  2011.00  2012.00  2013.00  2014.000   \n",
       "2      1.41     1.50     1.11     1.35     1.56     1.74     1.67     1.600   \n",
       "3      1.38     1.40     1.00     1.45     1.60     1.80     1.66     1.580   \n",
       "4      1.37     1.43     1.09     1.35     1.50     1.73     1.65     1.521   \n",
       "5      1.31     1.38     1.07     1.35     1.53     1.63     1.60     1.510   \n",
       "6      1.35     1.39     1.10     1.34     1.46     1.81     1.77     1.760   \n",
       "7      1.18     1.19     0.91     1.13     1.25     1.42     1.37     1.290   \n",
       "8      1.51     1.56     1.25     1.54     1.66     1.83     1.83     1.770   \n",
       "9      1.13     1.22     0.91     1.11     1.29     1.45     1.41     1.340   \n",
       "10     1.15     1.23     0.82     1.12     1.26     1.38     1.29     1.260   \n",
       "11     1.06     1.14     0.88     1.12     1.29     1.51     1.47     1.390   \n",
       "12     1.11     1.21     1.05     1.18     1.38     1.54     1.50     1.440   \n",
       "13     1.11     1.07     0.83     1.15     1.28     1.46     1.52     1.440   \n",
       "14     1.03     1.21     0.92     1.19     1.38     1.49     1.43     1.310   \n",
       "15     1.13     1.13     0.86     1.22     1.32     1.49     1.46     1.300   \n",
       "\n",
       "         11       12       13       14       15  \n",
       "0       NaN      NaN      NaN      NaN      NaN  \n",
       "1   2015.00  2016.00  2017.00  2018.00  2019.00  \n",
       "2      1.42     1.24     1.38     1.46     1.43  \n",
       "3      1.43     1.38     1.55     1.61     1.63  \n",
       "4      1.28     1.21     1.36     1.47     1.40  \n",
       "5      1.37     1.24     1.39     1.49     1.49  \n",
       "6      1.53     1.45     1.55     1.57     1.55  \n",
       "7      1.16     1.01     1.14     1.19     1.18  \n",
       "8      1.65     1.46     1.65     1.72     1.72  \n",
       "9      1.18     1.04     1.18     1.21     1.19  \n",
       "10     1.08     0.91     1.10     1.10     1.10  \n",
       "11     1.38     1.21     1.41     1.36     1.36  \n",
       "12     1.22     1.12     1.31     1.31     1.30  \n",
       "13     1.31     1.12     1.28     1.31     1.27  \n",
       "14     1.11     1.00     1.15     1.19     1.16  \n",
       "15     1.15     0.96     1.16     1.18     1.15  "
      ]
     },
     "execution_count": 4,
     "metadata": {},
     "output_type": "execute_result"
    }
   ],
   "source": [
    "import pandas as pd\n",
    "\n",
    "df = pd.read_excel(\"Benzin-Preise.xlsx\", header = None)\n",
    "df"
   ]
  },
  {
   "cell_type": "code",
   "execution_count": 5,
   "metadata": {},
   "outputs": [
    {
     "name": "stdout",
     "output_type": "stream",
     "text": [
      "Durchschn. Benzinkosten = 1.1733333333333333 €/Liter\n"
     ]
    }
   ],
   "source": [
    "df1 = df.drop([0,2,3,4,5,6,7,8],axis =0)\n",
    "df2 = df1.drop(df[df.index >9].index)\n",
    "df3 = df2.T\n",
    "df4 = df3.columns =[\"Jahr\",\"Preis in €/Liter\"]\n",
    "df5 = df3.drop(df3.index[0])\n",
    "df6 = df5.mean(axis=0)\n",
    "df7 = df5.append(df6, ignore_index = True)\n",
    "df7\n",
    "\n",
    "Benzinkosten_Mittelwert = df7.loc[15,'Preis in €/Liter']\n",
    "print('Durchschn. Benzinkosten =' , Benzinkosten_Mittelwert, '€/Liter')\n"
   ]
  },
  {
   "cell_type": "markdown",
   "metadata": {},
   "source": [
    "### Individuelle Anpassung der Treibstoffkosten und Fahrleistung:\n",
    "\n",
    "Hier soll der Nutzer die oben beschriebenen Faktoren (Treibstoff-, Wartungs- ind Versicherungskosten) selbst einstellen können. \n",
    "Falls man der Meinung ist, die durchschnittlichen Benzinkosten aus den Jahren 2004 bis 2019 stimmen nicht mehr, können auch diese hier individuell angepasst werden. Ansonsten wird automatisch mit den oben berechneten Durschschnittskosten gerechnet. "
   ]
  },
  {
   "cell_type": "code",
   "execution_count": 6,
   "metadata": {},
   "outputs": [
    {
     "name": "stdout",
     "output_type": "stream",
     "text": [
      "Stromkosten in €/kWh:\n"
     ]
    },
    {
     "data": {
      "application/vnd.jupyter.widget-view+json": {
       "model_id": "948af7520e144f4882ba6a4df355f751",
       "version_major": 2,
       "version_minor": 0
      },
      "text/plain": [
       "FloatSlider(value=0.2, continuous_update=False, max=1.0, step=0.01)"
      ]
     },
     "metadata": {},
     "output_type": "display_data"
    },
    {
     "name": "stdout",
     "output_type": "stream",
     "text": [
      "Treibstoffkosten in €/Liter:\n"
     ]
    },
    {
     "data": {
      "application/vnd.jupyter.widget-view+json": {
       "model_id": "3c4ce46357aa4a33a5a19d533888aba6",
       "version_major": 2,
       "version_minor": 0
      },
      "text/plain": [
       "FloatSlider(value=1.1733333333333333, continuous_update=False, max=2.0, step=0.01)"
      ]
     },
     "metadata": {},
     "output_type": "display_data"
    },
    {
     "name": "stdout",
     "output_type": "stream",
     "text": [
      "Kilometer pro Jahr:\n"
     ]
    },
    {
     "data": {
      "application/vnd.jupyter.widget-view+json": {
       "model_id": "22a972314a9f4a11a64912aca4a66e39",
       "version_major": 2,
       "version_minor": 0
      },
      "text/plain": [
       "FloatSlider(value=15000.0, continuous_update=False, max=60000.0, min=500.0, readout_format='.0f', step=500.0)"
      ]
     },
     "metadata": {},
     "output_type": "display_data"
    }
   ],
   "source": [
    "import ipywidgets as widgets\n",
    "from IPython.display import display\n",
    "\n",
    "Fuel = widgets.FloatSlider(\n",
    "    value=0.20,\n",
    "    min=0.00,\n",
    "    max=1.00,\n",
    "    step=0.01,\n",
    "    disabled=False,\n",
    "    continuous_update=False,\n",
    "    orientation='horizontal',\n",
    "    readout=True,\n",
    "    readout_format='.2f',\n",
    "    \n",
    ")\n",
    "print('Stromkosten in €/kWh:')\n",
    "display(Fuel)\n",
    "\n",
    "Fuel_ver = widgets.FloatSlider(\n",
    "    value=Benzinkosten_Mittelwert,\n",
    "    min=0.00,\n",
    "    max=2.00,\n",
    "    step=0.01,\n",
    "    disabled=False,\n",
    "    continuous_update=False,\n",
    "    orientation='horizontal',\n",
    "    readout=True,\n",
    "    readout_format='.2f',\n",
    "    \n",
    ")\n",
    "print('Treibstoffkosten in €/Liter:')\n",
    "display(Fuel_ver)\n",
    "\n",
    "\n",
    "\n",
    "km = widgets.FloatSlider(\n",
    "    value=15000,\n",
    "    min=500,\n",
    "    max=60000,\n",
    "    step=500,\n",
    "    disabled=False,\n",
    "    continuous_update=False,\n",
    "    orientation='horizontal',\n",
    "    readout=True,\n",
    "    readout_format='.0f',\n",
    "    \n",
    ")\n",
    "print('Kilometer pro Jahr:')\n",
    "display(km)\n",
    "\n",
    "\n"
   ]
  },
  {
   "cell_type": "markdown",
   "metadata": {},
   "source": [
    "#### Berechnung der Treibstoffkosten:\n",
    "Die Treibstoffkosten errechnen sich aus den Kosten pro Einheit und der jährlichen Kilometerleistung."
   ]
  },
  {
   "cell_type": "code",
   "execution_count": 7,
   "metadata": {},
   "outputs": [
    {
     "name": "stdout",
     "output_type": "stream",
     "text": [
      "Stromkosten pro Jahr:       441.0 €/Jahr\n",
      "Benzinkosten pro Jahr:  1003.2000000000002 €/Jahr\n"
     ]
    }
   ],
   "source": [
    "Stromkosten = Fuel.value * WLTP_e * km.value / 100\n",
    "print('Stromkosten pro Jahr:      ', Stromkosten, '€/Jahr')\n",
    "\n",
    "Treibstoffkosten = Fuel_ver.value * WLTP_ver * km.value / 100\n",
    "print('Benzinkosten pro Jahr: ', Treibstoffkosten, '€/Jahr')"
   ]
  },
  {
   "cell_type": "markdown",
   "metadata": {},
   "source": [
    "#### Definition der Instanhaltungskosten und Versicherungskosten:"
   ]
  },
  {
   "cell_type": "code",
   "execution_count": 8,
   "metadata": {},
   "outputs": [
    {
     "name": "stdout",
     "output_type": "stream",
     "text": [
      "jährliche Instandhaltungskosten - E-Auto:\n"
     ]
    },
    {
     "data": {
      "application/vnd.jupyter.widget-view+json": {
       "model_id": "a8c28956e9784a3c9c9021efec2fa7c7",
       "version_major": 2,
       "version_minor": 0
      },
      "text/plain": [
       "FloatText(value=400.0, description=' ', step=100.0)"
      ]
     },
     "metadata": {},
     "output_type": "display_data"
    },
    {
     "name": "stdout",
     "output_type": "stream",
     "text": [
      "jährliche Instandhaltungskosten - Verbrenner:\n"
     ]
    },
    {
     "data": {
      "application/vnd.jupyter.widget-view+json": {
       "model_id": "65be41a35ac2408e98b39f2becce2f77",
       "version_major": 2,
       "version_minor": 0
      },
      "text/plain": [
       "FloatText(value=800.0, description=' ', step=100.0)"
      ]
     },
     "metadata": {},
     "output_type": "display_data"
    },
    {
     "name": "stdout",
     "output_type": "stream",
     "text": [
      "jährliche Versicherung,Steuern,Abgaben - E-Auto:\n"
     ]
    },
    {
     "data": {
      "application/vnd.jupyter.widget-view+json": {
       "model_id": "f8e91b569007496ab288246d3a60bf56",
       "version_major": 2,
       "version_minor": 0
      },
      "text/plain": [
       "FloatText(value=1000.0, description=' ', step=100.0)"
      ]
     },
     "metadata": {},
     "output_type": "display_data"
    },
    {
     "name": "stdout",
     "output_type": "stream",
     "text": [
      "jährliche Versicherung,Steuern,Abgaben - Verbrenner:\n"
     ]
    },
    {
     "data": {
      "application/vnd.jupyter.widget-view+json": {
       "model_id": "20f3a571a8274dcd9c6cd8fb1dce8d02",
       "version_major": 2,
       "version_minor": 0
      },
      "text/plain": [
       "FloatText(value=1400.0, description=' ', step=100.0)"
      ]
     },
     "metadata": {},
     "output_type": "display_data"
    }
   ],
   "source": [
    "Instandhaltung_e = widgets.FloatText(description=\" \", value=\"400\", step=\"100\")\n",
    "Instandhaltung_ver = widgets.FloatText(description=\" \", value=\"800\", step=\"100\")\n",
    "\n",
    "Vers_e = widgets.FloatText(description=\" \", value=\"1000\", step=\"100\")\n",
    "Vers_ver = widgets.FloatText(description=\" \", value=\"1400\", step=\"100\")\n",
    "\n",
    "print('jährliche Instandhaltungskosten - E-Auto:')\n",
    "display(Instandhaltung_e)\n",
    "\n",
    "print('jährliche Instandhaltungskosten - Verbrenner:')\n",
    "display(Instandhaltung_ver)\n",
    "\n",
    "print('jährliche Versicherung,Steuern,Abgaben - E-Auto:')\n",
    "display(Vers_e)\n",
    "\n",
    "print('jährliche Versicherung,Steuern,Abgaben - Verbrenner:')\n",
    "display(Vers_ver)"
   ]
  },
  {
   "cell_type": "markdown",
   "metadata": {},
   "source": [
    "### Berechnung der Summe aller jährlichen variablen Kosten:\n"
   ]
  },
  {
   "cell_type": "code",
   "execution_count": 9,
   "metadata": {},
   "outputs": [
    {
     "name": "stdout",
     "output_type": "stream",
     "text": [
      "var. Kosten pro Jahr - E-Auto:     1841.0 €/Jahr\n",
      "var. Kosten pro Jahr - Verbrenner: 3203.2000000000003 €/Jahr\n"
     ]
    }
   ],
   "source": [
    "varKost_e = Stromkosten + Instandhaltung_e.value + Vers_e.value\n",
    "varKost_ver = Treibstoffkosten + Instandhaltung_ver.value + Vers_ver.value\n",
    "\n",
    "print('var. Kosten pro Jahr - E-Auto:    ', varKost_e, '€/Jahr')\n",
    "print('var. Kosten pro Jahr - Verbrenner:', varKost_ver, '€/Jahr')"
   ]
  },
  {
   "cell_type": "markdown",
   "metadata": {},
   "source": [
    "## Ergebnisse \n",
    "\n",
    "Zur besseren Übersicht sollen alle gewonnenen Daten übersichtlich in einer Tabelle aufgelistet werden. "
   ]
  },
  {
   "cell_type": "code",
   "execution_count": 119,
   "metadata": {},
   "outputs": [],
   "source": [
    "liste = pd.DataFrame({' ': ['Fahrzeugkaufpreis','Förderung','Anschaffungskosten', ' ', 'Treibstoffverbrauch','Treibstoffpreise',' ','Variable Kosten:', 'Treibstoffkosten', 'Instandhaltung', 'Versicherung,Steuern,...','Summe variable Kosten',],\n",
    "                      'Verbrenner': [c0_ver, 0, cf_ver,' ', WLTP_ver, Fuel_ver.value,' ',' ',Treibstoffkosten, Instandhaltung_ver.value,Vers_ver.value,varKost_ver], \n",
    "                      ' ...': ['€', '€','€',' ', 'l/100 km','€/l',' ',' ', '€/a', '€/a','€/a','€/a',],\n",
    "                      'E-Auto': [c0_e, cfoerder_e, cf_e,' ', WLTP_e, Fuel.value,' ',' ', Stromkosten, Instandhaltung_e.value,Vers_e.value,varKost_e],\n",
    "                      '... ': ['€','€','€',' ','kWh/100 km','€/kWh',' ',' ','€/a', '€/a','€/a','€/a',],})"
   ]
  },
  {
   "cell_type": "code",
   "execution_count": 120,
   "metadata": {},
   "outputs": [
    {
     "data": {
      "text/html": [
       "<div>\n",
       "<style scoped>\n",
       "    .dataframe tbody tr th:only-of-type {\n",
       "        vertical-align: middle;\n",
       "    }\n",
       "\n",
       "    .dataframe tbody tr th {\n",
       "        vertical-align: top;\n",
       "    }\n",
       "\n",
       "    .dataframe thead th {\n",
       "        text-align: right;\n",
       "    }\n",
       "</style>\n",
       "<table border=\"1\" class=\"dataframe\">\n",
       "  <thead>\n",
       "    <tr style=\"text-align: right;\">\n",
       "      <th></th>\n",
       "      <th></th>\n",
       "      <th>Verbrenner</th>\n",
       "      <th>...</th>\n",
       "      <th>E-Auto</th>\n",
       "      <th>...</th>\n",
       "    </tr>\n",
       "  </thead>\n",
       "  <tbody>\n",
       "    <tr>\n",
       "      <td>0</td>\n",
       "      <td>Fahrzeugkaufpreis</td>\n",
       "      <td>26500</td>\n",
       "      <td>€</td>\n",
       "      <td>37300</td>\n",
       "      <td>€</td>\n",
       "    </tr>\n",
       "    <tr>\n",
       "      <td>1</td>\n",
       "      <td>Förderung</td>\n",
       "      <td>0</td>\n",
       "      <td>€</td>\n",
       "      <td>3300</td>\n",
       "      <td>€</td>\n",
       "    </tr>\n",
       "    <tr>\n",
       "      <td>2</td>\n",
       "      <td>Anschaffungskosten</td>\n",
       "      <td>26500</td>\n",
       "      <td>€</td>\n",
       "      <td>34000</td>\n",
       "      <td>€</td>\n",
       "    </tr>\n",
       "    <tr>\n",
       "      <td>3</td>\n",
       "      <td></td>\n",
       "      <td></td>\n",
       "      <td></td>\n",
       "      <td></td>\n",
       "      <td></td>\n",
       "    </tr>\n",
       "    <tr>\n",
       "      <td>4</td>\n",
       "      <td>Treibstoffverbrauch</td>\n",
       "      <td>5.7</td>\n",
       "      <td>l/100 km</td>\n",
       "      <td>14.7</td>\n",
       "      <td>kWh/100 km</td>\n",
       "    </tr>\n",
       "    <tr>\n",
       "      <td>5</td>\n",
       "      <td>Treibstoffpreise</td>\n",
       "      <td>1.17333</td>\n",
       "      <td>€/l</td>\n",
       "      <td>0.2</td>\n",
       "      <td>€/kWh</td>\n",
       "    </tr>\n",
       "    <tr>\n",
       "      <td>6</td>\n",
       "      <td></td>\n",
       "      <td></td>\n",
       "      <td></td>\n",
       "      <td></td>\n",
       "      <td></td>\n",
       "    </tr>\n",
       "    <tr>\n",
       "      <td>7</td>\n",
       "      <td>Variable Kosten:</td>\n",
       "      <td></td>\n",
       "      <td></td>\n",
       "      <td></td>\n",
       "      <td></td>\n",
       "    </tr>\n",
       "    <tr>\n",
       "      <td>8</td>\n",
       "      <td>Treibstoffkosten</td>\n",
       "      <td>1003.2</td>\n",
       "      <td>€/a</td>\n",
       "      <td>441</td>\n",
       "      <td>€/a</td>\n",
       "    </tr>\n",
       "    <tr>\n",
       "      <td>9</td>\n",
       "      <td>Instandhaltung</td>\n",
       "      <td>800</td>\n",
       "      <td>€/a</td>\n",
       "      <td>400</td>\n",
       "      <td>€/a</td>\n",
       "    </tr>\n",
       "    <tr>\n",
       "      <td>10</td>\n",
       "      <td>Versicherung,Steuern,...</td>\n",
       "      <td>1400</td>\n",
       "      <td>€/a</td>\n",
       "      <td>1000</td>\n",
       "      <td>€/a</td>\n",
       "    </tr>\n",
       "    <tr>\n",
       "      <td>11</td>\n",
       "      <td>Summe variable Kosten</td>\n",
       "      <td>3203.2</td>\n",
       "      <td>€/a</td>\n",
       "      <td>1841</td>\n",
       "      <td>€/a</td>\n",
       "    </tr>\n",
       "  </tbody>\n",
       "</table>\n",
       "</div>"
      ],
      "text/plain": [
       "                             Verbrenner       ... E-Auto        ... \n",
       "0          Fahrzeugkaufpreis      26500         €  37300           €\n",
       "1                  Förderung          0         €   3300           €\n",
       "2         Anschaffungskosten      26500         €  34000           €\n",
       "3                                                                   \n",
       "4        Treibstoffverbrauch        5.7  l/100 km   14.7  kWh/100 km\n",
       "5           Treibstoffpreise    1.17333       €/l    0.2       €/kWh\n",
       "6                                                                   \n",
       "7           Variable Kosten:                                        \n",
       "8           Treibstoffkosten     1003.2       €/a    441         €/a\n",
       "9             Instandhaltung        800       €/a    400         €/a\n",
       "10  Versicherung,Steuern,...       1400       €/a   1000         €/a\n",
       "11     Summe variable Kosten     3203.2       €/a   1841         €/a"
      ]
     },
     "execution_count": 120,
     "metadata": {},
     "output_type": "execute_result"
    }
   ],
   "source": [
    "liste"
   ]
  },
  {
   "cell_type": "markdown",
   "metadata": {},
   "source": [
    "**Berechnung der TCO**"
   ]
  },
  {
   "cell_type": "code",
   "execution_count": 125,
   "metadata": {},
   "outputs": [
    {
     "name": "stdout",
     "output_type": "stream",
     "text": [
      "TCO Verbrenner = 58532.0 € nach 10 Jahren\n",
      "TCO Elektro = 52410.0 € nach 10 Jahren\n"
     ]
    }
   ],
   "source": [
    "TCO_ver = cf_ver + (jahre*varKost_ver)\n",
    "TCO_e = cf_e + (jahre*varKost_e)\n",
    "\n",
    "print('TCO Verbrenner =',TCO_ver, '€ nach', jahre, 'Jahren')\n",
    "print('TCO Elektro =',TCO_e, '€ nach', jahre, 'Jahren')"
   ]
  },
  {
   "cell_type": "markdown",
   "metadata": {},
   "source": [
    "**Wertetabelle für Grafik**"
   ]
  },
  {
   "cell_type": "code",
   "execution_count": 126,
   "metadata": {
    "scrolled": true
   },
   "outputs": [],
   "source": [
    "import matplotlib.pyplot as plt\n",
    "werte = pd.DataFrame({'TCO Elektro':[cf_e,TCO_e], 'TCO Verbrenner':[cf_ver,TCO_ver],})"
   ]
  },
  {
   "cell_type": "markdown",
   "metadata": {},
   "source": [
    "**Grafik:**"
   ]
  },
  {
   "cell_type": "code",
   "execution_count": 127,
   "metadata": {},
   "outputs": [
    {
     "data": {
      "image/png": "[encoded data removed]",
      "text/plain": [
       "<Figure size 432x288 with 1 Axes>"
      ]
     },
     "metadata": {
      "needs_background": "light"
     },
     "output_type": "display_data"
    }
   ],
   "source": [
    "plt.plot(werte)\n",
    "plt.legend(('TCO Elektro','TCO Verbrenner'))\n",
    "plt.xlabel('Anteil der Zeit')\n",
    "plt.ylabel('TCO in EURO')\n",
    "plt.show()"
   ]
  },
  {
   "cell_type": "markdown",
   "metadata": {},
   "source": [
    "**Abspeichern der TCO-Liste in einer CSV-Datei:**"
   ]
  },
  {
   "cell_type": "code",
   "execution_count": 128,
   "metadata": {},
   "outputs": [],
   "source": [
    "liste.to_csv(\"Parameter-Liste_TCO.csv\", sep=';', encoding='utf-8')"
   ]
  },
  {
   "cell_type": "markdown",
   "metadata": {},
   "source": [
    "## Diskussion"
   ]
  },
  {
   "cell_type": "markdown",
   "metadata": {},
   "source": [
    "Wie in der Grafik erkennbar, sind die Gesamtkosten beim Elektroauto nach ca. 5,5 Jahren niedrier als die Gesamtkosten. Das beduetet, selbst bei den kleinen E-Autos und einer jährlichen Kilometerleistung von nur 15.000 km ist die Elektor-Variante langfristig günstiger als die Verbrennerversion. \n",
    "\n",
    "\n",
    "\n",
    "**ACHTUNG!**\n",
    "\n",
    "Bei individuell eingestellten Parametern stimmen die Ergebnisse nicht mehr mit den oben beschriebenen Ergebnissen überein!\n",
    "\n",
    "\n",
    "**Fazit:**\n",
    "\n",
    "Dieses Python-Tool kann und wird absofort verwendet, wenn es darum geht die Gesamtkosten von zwei vergleichbaren Autos darzustellen. "
   ]
  },
  {
   "cell_type": "markdown",
   "metadata": {},
   "source": [
    "## Quellenverzeichnis"
   ]
  },
  {
   "cell_type": "markdown",
   "metadata": {},
   "source": [
    "https://de.wikipedia.org/wiki/Motorenbenzin\n"
   ]
  }
 ],
 "metadata": {
  "kernelspec": {
   "display_name": "Python 3",
   "language": "python",
   "name": "python3"
  },
  "language_info": {
   "codemirror_mode": {
    "name": "ipython",
    "version": 3
   },
   "file_extension": ".py",
   "mimetype": "text/x-python",
   "name": "python",
   "nbconvert_exporter": "python",
   "pygments_lexer": "ipython3",
   "version": "3.7.4"
  }
 },
 "nbformat": 4,
 "nbformat_minor": 2
}
